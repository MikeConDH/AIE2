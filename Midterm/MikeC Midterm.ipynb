{
  "nbformat": 4,
  "nbformat_minor": 0,
  "metadata": {
    "colab": {
      "provenance": []
    },
    "kernelspec": {
      "name": "python3",
      "display_name": "Python 3"
    },
    "language_info": {
      "name": "python"
    }
  },
  "cells": [
    {
      "cell_type": "markdown",
      "source": [
        "# AI MAKERSPACE . COHORT 2 . MIDETERM"
      ],
      "metadata": {
        "id": "uhrFboY8odSQ"
      }
    },
    {
      "cell_type": "markdown",
      "source": [
        "This is the Meta Financial Assistant Challenge\n",
        "\n",
        "It's a RAG based Q&A application with a simple web interface\n",
        "\n",
        "### [ CONFIGURATION OVERVIEW ]\n",
        "- Data:Meta 10-k Filings (PDF file)\n",
        "- LLM: OpenAI GPT-3.5-turbo\n",
        "- Embedding Model: text-3-embedding small\n",
        "- Infrastructure: LangChain\n",
        "- Vector Store: Qdrant\n",
        "- Deployment: Chainlit, Hugging Face\n",
        "\n",
        "### [ DEVELOPMENT PHASES ]\n",
        "1) Deploy a Hugging Face Space with a simple Chainlit Q&A App using GPT-3\n",
        "\n",
        "2) RAG (Data, Embeddings, Vector Store, Langchain, Prompt Template)\n",
        "\n",
        "3) Answer the 2 Questions (Test, Tweek, Repeat)\n",
        "\n",
        "4) RAGAS some metric (Maybe)\n",
        "\n",
        "### [ RAG TASKS ]\n",
        "    Task 1: Load Dependencies & Setup\n",
        "    Task 2: Setup the RAG Pipeline\n",
        "    Task 3: Test Drive Questions\n",
        "    Task 4: Adjust to Improve\n",
        "    Task 5: Ready to Chat - make it an App"
      ],
      "metadata": {
        "id": "TLgaaw_pHwb5"
      }
    },
    {
      "cell_type": "markdown",
      "source": [
        "### Step 1: Dependencies and Initialization"
      ],
      "metadata": {
        "id": "d8YSO5hLoQgq"
      }
    },
    {
      "cell_type": "markdown",
      "source": [
        "The basic setup and getting the OpenAI key to use their LLM and embeddings model."
      ],
      "metadata": {
        "id": "lGcTrNi0Ht0d"
      }
    },
    {
      "cell_type": "code",
      "source": [
        "!pip install -qU langchain langchain-core langchain-community langchain-openai"
      ],
      "metadata": {
        "id": "nCC2AR-Q0m0x"
      },
      "execution_count": 1,
      "outputs": []
    },
    {
      "cell_type": "code",
      "source": [
        "!pip install -qU qdrant-client"
      ],
      "metadata": {
        "id": "76XeYI9P1OXO"
      },
      "execution_count": 2,
      "outputs": []
    },
    {
      "cell_type": "code",
      "source": [
        "!pip install -qU tiktoken pymupdf"
      ],
      "metadata": {
        "id": "K5qIUrFuENrS"
      },
      "execution_count": 3,
      "outputs": []
    },
    {
      "cell_type": "code",
      "source": [
        "import os\n",
        "import getpass\n",
        "\n",
        "os.environ[\"OPENAI_API_KEY\"] = getpass.getpass(\"OpenAI API Key:\")"
      ],
      "metadata": {
        "id": "7pKAfycq73wE",
        "outputId": "c6145652-687f-4ee9-dee6-21bba8af6c9e",
        "colab": {
          "base_uri": "https://localhost:8080/"
        }
      },
      "execution_count": 4,
      "outputs": [
        {
          "name": "stdout",
          "output_type": "stream",
          "text": [
            "OpenAI API Key:··········\n"
          ]
        }
      ]
    },
    {
      "cell_type": "markdown",
      "source": [
        "### Step 2: Get the Data - PDF file on the Internet\n",
        "In this challenge, we will be creating a RAG application that will use the Meta 10-k Filings.  This is a long 140 page financial document, chocked full of hidden data gems.  To start will grab the doc off the internet."
      ],
      "metadata": {
        "id": "pBErqPRgxgZR"
      }
    },
    {
      "cell_type": "code",
      "source": [
        "from langchain.document_loaders import PyMuPDFLoader\n",
        "\n",
        "docs = PyMuPDFLoader(\"https://d18rn0p25nwr6d.cloudfront.net/CIK-0001326801/c7318154-f6ae-4866-89fa-f0c589f2ee3d.pdf\").load()"
      ],
      "metadata": {
        "id": "-AHA9L3Jxo3r"
      },
      "execution_count": 5,
      "outputs": []
    },
    {
      "cell_type": "markdown",
      "source": [
        "### Step 3: Chunking the document\n",
        "Chunking is breaking the document up into blocks of text that will be use by the retriever in our RAG pipeline.  We will be using the recursive character text splitter with a chunk size of 200, and no overlap.  Research for this type of app suggested a size of 500 and an overap of 50, but that did not fair well in answering specific questions."
      ],
      "metadata": {
        "id": "uH7ZPVJLx6Cn"
      }
    },
    {
      "cell_type": "code",
      "source": [
        "import tiktoken\n",
        "\n",
        "def tiktoken_len(text):\n",
        "    tokens = tiktoken.encoding_for_model(\"gpt-3.5-turbo\").encode(\n",
        "        text,\n",
        "    )\n",
        "    return len(tokens)"
      ],
      "metadata": {
        "id": "nLW9AfDKfVHn"
      },
      "execution_count": 6,
      "outputs": []
    },
    {
      "cell_type": "code",
      "source": [
        "from langchain.text_splitter import RecursiveCharacterTextSplitter\n",
        "\n",
        "text_splitter = RecursiveCharacterTextSplitter(\n",
        "    chunk_size = 200,\n",
        "    chunk_overlap = 0,\n",
        "    length_function = tiktoken_len,\n",
        ")\n",
        "\n",
        "split_chunks = text_splitter.split_documents(docs)"
      ],
      "metadata": {
        "id": "SzolG1FLx2f_"
      },
      "execution_count": 7,
      "outputs": []
    },
    {
      "cell_type": "markdown",
      "source": [
        "### c) Step 4: Store chunks in a Qdrant vector storage using OpenAI embeddings\n",
        "Qdrant, the vector database will be used.  It will be configured to use memory and will have a name of MetaFin.  LangChain has simple integration."
      ],
      "metadata": {
        "id": "kocCe4zLy5qT"
      }
    },
    {
      "cell_type": "code",
      "source": [
        "from langchain_openai.embeddings import OpenAIEmbeddings\n",
        "\n",
        "embedding_model = OpenAIEmbeddings(model=\"text-embedding-3-small\")"
      ],
      "metadata": {
        "id": "quNjOLWspOVN"
      },
      "execution_count": 8,
      "outputs": []
    },
    {
      "cell_type": "code",
      "source": [
        "from langchain_community.vectorstores import Qdrant\n",
        "\n",
        "qdrant_vectorstore = Qdrant.from_documents(\n",
        "    split_chunks,\n",
        "    embedding_model,\n",
        "    location=\":memory:\",\n",
        "    collection_name=\"MetaFin\",\n",
        ")"
      ],
      "metadata": {
        "id": "7M0X1eVlWPFf"
      },
      "execution_count": 9,
      "outputs": []
    },
    {
      "cell_type": "markdown",
      "source": [
        "### Step 5: Set up Retriever\n",
        "Very easy to set up the retriever."
      ],
      "metadata": {
        "id": "d-NDvjfzXhVp"
      }
    },
    {
      "cell_type": "code",
      "source": [
        "qdrant_retriever = qdrant_vectorstore.as_retriever()"
      ],
      "metadata": {
        "id": "Edjx19YBXavZ"
      },
      "execution_count": 10,
      "outputs": []
    },
    {
      "cell_type": "markdown",
      "source": [
        "### Step 6: Setup LangChain RAG pipeline using OpenAI 3.5 turbo LLM\n",
        "We will be using Open AI 3.5 turbo as the LLM.  The prompt template is simple and provides basic guidance on what is expected as a financial advisor.  The heart of this RAG pipeline is the LangChain:\n",
        "[query]->[retriever]->[prompt template]->[LLM]->[inference]\n",
        "which can easily be integrated into a chatbot web application.\n"
      ],
      "metadata": {
        "id": "xMhcU37dzV5k"
      }
    },
    {
      "cell_type": "code",
      "source": [
        "from langchain_openai import ChatOpenAI\n",
        "\n",
        "openai_chat_model = ChatOpenAI(model=\"gpt-3.5-turbo\")"
      ],
      "metadata": {
        "id": "3Uj6SorxMj8e"
      },
      "execution_count": 18,
      "outputs": []
    },
    {
      "cell_type": "code",
      "source": [
        "from langchain_core.prompts import ChatPromptTemplate\n",
        "\n",
        "RAG_PROMPT = \"\"\"\n",
        "CONTEXT:\n",
        "{context}\n",
        "\n",
        "QUERY:\n",
        "{question}\n",
        "\n",
        "Use the provided context to answer the user's query. You are a professional financial expert. You always review the provided financial information.  You provide correct, substantiated answers. You may not answer the user's query unless there is a specific context in the following text. If asked about the Board of Directors, then add Mark Zuckerberg as the \"Board Chair\".\n",
        "If you do not know the answer, or cannot answer, please respond with \"Insufficient data for further analysis, please try again\". >>\n",
        "\"\"\"\n",
        "\n",
        "rag_prompt = ChatPromptTemplate.from_template(RAG_PROMPT)"
      ],
      "metadata": {
        "id": "TE5tick_YPJj"
      },
      "execution_count": 28,
      "outputs": []
    },
    {
      "cell_type": "code",
      "source": [
        "from operator import itemgetter\n",
        "from langchain.schema.output_parser import StrOutputParser\n",
        "from langchain.schema.runnable import RunnablePassthrough\n",
        "\n",
        "retrieval_augmented_qa_chain = (\n",
        "    {\"context\": itemgetter(\"question\") | qdrant_retriever, \"question\": itemgetter(\"question\")}\n",
        "    | RunnablePassthrough.assign(context=itemgetter(\"context\"))\n",
        "    | {\"response\": rag_prompt | openai_chat_model, \"context\": itemgetter(\"context\")}\n",
        ")"
      ],
      "metadata": {
        "id": "VnGthXpzzo-R"
      },
      "execution_count": 29,
      "outputs": []
    },
    {
      "cell_type": "markdown",
      "source": [
        "### Q & A Ready\n",
        "OK. Lets try some questions."
      ],
      "metadata": {
        "id": "IPy5iPvMm7w2"
      }
    },
    {
      "cell_type": "code",
      "source": [
        "chainlit_question = \"What was the total value of 'Cash and cash equivalents' as of December 31, 2023?\"\n",
        "response = retrieval_augmented_qa_chain.invoke({\"question\" : chainlit_question })"
      ],
      "metadata": {
        "id": "JSDyVefDaue4"
      },
      "execution_count": 30,
      "outputs": []
    },
    {
      "cell_type": "code",
      "source": [
        "chainlin_answer = response[\"response\"].content\n",
        "print(chainlin_answer)"
      ],
      "metadata": {
        "id": "hMGm9IE0pe91",
        "outputId": "cf891a80-1a9c-4b9d-9b99-02aecac9a9d3",
        "colab": {
          "base_uri": "https://localhost:8080/"
        }
      },
      "execution_count": 31,
      "outputs": [
        {
          "output_type": "stream",
          "name": "stdout",
          "text": [
            "The total value of 'Cash and cash equivalents' as of December 31, 2023, was $65.40 billion. This information is provided in the document within the context.\n"
          ]
        }
      ]
    },
    {
      "cell_type": "code",
      "source": [
        "chainlit_question = \"Who are Meta's 'Directors' (i.e., members of the Board of Directors)?\"\n",
        "response = retrieval_augmented_qa_chain.invoke({\"question\" : chainlit_question })"
      ],
      "metadata": {
        "id": "6CxkoQnB2PGR"
      },
      "execution_count": 32,
      "outputs": []
    },
    {
      "cell_type": "code",
      "source": [
        "chainlin_answer = response[\"response\"].content\n",
        "print(chainlin_answer)"
      ],
      "metadata": {
        "outputId": "58939bb1-ba10-450a-82d2-6d0631137385",
        "colab": {
          "base_uri": "https://localhost:8080/"
        },
        "id": "1KF6Wlbg2TBe"
      },
      "execution_count": 33,
      "outputs": [
        {
          "output_type": "stream",
          "name": "stdout",
          "text": [
            "The Directors (members of the Board of Directors) of Meta as mentioned in the provided context are:\n",
            "\n",
            "1. Peggy Alford\n",
            "2. Marc L. Andreessen\n",
            "3. Andrew W. Houston\n",
            "4. Nancy Killefer\n",
            "5. Robert M. Kimmitt\n",
            "6. Sheryl K. Sandberg\n",
            "7. Tracey T. Travis\n",
            "8. Tony Xu\n",
            "\n",
            "Additionally, Mark Zuckerberg serves as the Board Chair of Meta.\n",
            "\n",
            "Therefore, the Board of Directors of Meta consists of the aforementioned individuals.\n"
          ]
        }
      ]
    },
    {
      "cell_type": "code",
      "source": [
        "for context in response[\"context\"]:\n",
        "  print(context)"
      ],
      "metadata": {
        "colab": {
          "base_uri": "https://localhost:8080/"
        },
        "id": "FSZFdCM5LFoq",
        "outputId": "e02a113c-14dc-4f4d-8603-97f8628bd103"
      },
      "execution_count": 24,
      "outputs": [
        {
          "output_type": "stream",
          "name": "stdout",
          "text": [
            "page_content=\"(State or other jurisdiction of incorporation or organization)\\n(I.R.S. Employer Identification Number)\\n1 Meta Way, Menlo Park, California 94025\\n(Address of principal executive offices and Zip Code)\\n(650)\\xa0543-4800\\n(Registrant's telephone number, including area code)\\n__________________________\\nSecurities registered pursuant to Section 12(b) of the Act:\\nTitle of each class\\nTrading symbol(s)\\nName of each exchange on which registered\\nClass A Common Stock, $0.000006 par value\\nMETA\\nThe Nasdaq Stock Market LLC\\nSecurities registered pursuant to Section 12(g) of the Act: None\\nIndicate by check mark if the registrant is a well-known seasoned issuer, as defined in Rule 405 of the Securities Act.\\xa0\\xa0\\xa0\\xa0Yes\\xa0\\xa0☒\\xa0\\xa0No\\xa0\\xa0 ☐\" metadata={'source': 'https://d18rn0p25nwr6d.cloudfront.net/CIK-0001326801/c7318154-f6ae-4866-89fa-f0c589f2ee3d.pdf', 'file_path': 'https://d18rn0p25nwr6d.cloudfront.net/CIK-0001326801/c7318154-f6ae-4866-89fa-f0c589f2ee3d.pdf', 'page': 0, 'total_pages': 147, 'format': 'PDF 1.4', 'title': '0001326801-24-000012', 'author': 'EDGAR® Online LLC, a subsidiary of OTC Markets Group', 'subject': 'Form 10-K filed on 2024-02-02 for the period ending 2023-12-31', 'keywords': '0001326801-24-000012; ; 10-K', 'creator': 'EDGAR Filing HTML Converter', 'producer': 'EDGRpdf Service w/ EO.Pdf 22.0.40.0', 'creationDate': \"D:20240202060356-05'00'\", 'modDate': \"D:20240202060413-05'00'\", 'trapped': '', 'encryption': 'Standard V2 R3 128-bit RC4', '_id': '6ac404f3cea74f33b66034b4029c553c', '_collection_name': 'MetaFin'}\n",
            "page_content='provide direct customer support to our users and partners.\\nFor our RL products, our sales and operations efforts utilize third-party sales channels such as retailers, resellers, and our direct-to-consumer channel,\\nMeta.com. These efforts are focused on driving consumer and enterprise sales and adoption of our Meta Quest portfolio of products and Ray-Ban Meta smart\\nglasses.\\nMarketing\\nHistorically, our communities have generally grown organically with people inviting their friends to connect with them, supported by internal efforts to\\nstimulate awareness and interest. In addition, we have invested and will continue to invest in marketing our products and services to grow our brand and help\\nbuild community around the world.\\nIntellectual Property\\nTo establish and protect our proprietary rights, we rely on a combination of patents, trademarks, copyrights, trade secrets, including know-how, license\\nagreements, confidentiality procedures, non-disclosure agreements with third parties, employee disclosure and invention assignment agreements, and other' metadata={'source': 'https://d18rn0p25nwr6d.cloudfront.net/CIK-0001326801/c7318154-f6ae-4866-89fa-f0c589f2ee3d.pdf', 'file_path': 'https://d18rn0p25nwr6d.cloudfront.net/CIK-0001326801/c7318154-f6ae-4866-89fa-f0c589f2ee3d.pdf', 'page': 9, 'total_pages': 147, 'format': 'PDF 1.4', 'title': '0001326801-24-000012', 'author': 'EDGAR® Online LLC, a subsidiary of OTC Markets Group', 'subject': 'Form 10-K filed on 2024-02-02 for the period ending 2023-12-31', 'keywords': '0001326801-24-000012; ; 10-K', 'creator': 'EDGAR Filing HTML Converter', 'producer': 'EDGRpdf Service w/ EO.Pdf 22.0.40.0', 'creationDate': \"D:20240202060356-05'00'\", 'modDate': \"D:20240202060413-05'00'\", 'trapped': '', 'encryption': 'Standard V2 R3 128-bit RC4', '_id': '4987dd32b931432e973672a1911ffbe2', '_collection_name': 'MetaFin'}\n",
            "page_content='our telephone number is (650) 543-4800.\\nMeta, the Meta logo, Meta Quest, Meta Horizon, Facebook, FB, Instagram, Oculus, WhatsApp, Reels, and our other registered or common law\\ntrademarks, service marks, or trade names appearing in this Annual Report on Form 10-K are the property of Meta Platforms, Inc. or its affiliates. Other\\ntrademarks, service marks, or trade names appearing in this Annual Report on Form 10‑K are the property of their respective owners.\\nAvailable Information\\nOur Annual Reports on Form 10-K, Quarterly Reports on Form 10-Q, Current Reports on Form 8-K, and amendments to reports filed pursuant to\\nSections\\xa013(a) and 15(d) of the Securities Exchange Act of 1934, as amended (Exchange Act), are filed with the U.S. Securities and Exchange Commission' metadata={'source': 'https://d18rn0p25nwr6d.cloudfront.net/CIK-0001326801/c7318154-f6ae-4866-89fa-f0c589f2ee3d.pdf', 'file_path': 'https://d18rn0p25nwr6d.cloudfront.net/CIK-0001326801/c7318154-f6ae-4866-89fa-f0c589f2ee3d.pdf', 'page': 13, 'total_pages': 147, 'format': 'PDF 1.4', 'title': '0001326801-24-000012', 'author': 'EDGAR® Online LLC, a subsidiary of OTC Markets Group', 'subject': 'Form 10-K filed on 2024-02-02 for the period ending 2023-12-31', 'keywords': '0001326801-24-000012; ; 10-K', 'creator': 'EDGAR Filing HTML Converter', 'producer': 'EDGRpdf Service w/ EO.Pdf 22.0.40.0', 'creationDate': \"D:20240202060356-05'00'\", 'modDate': \"D:20240202060413-05'00'\", 'trapped': '', 'encryption': 'Standard V2 R3 128-bit RC4', '_id': '6151a3cdc54542e582c54c09e29636c2', '_collection_name': 'MetaFin'}\n",
            "page_content='October\\xa027, 2021, multiple putative class actions and derivative actions were filed in the U.S. District Court for the Northern District of California against us\\nand certain of our directors and officers alleging violations of securities laws, breach of fiduciary duties, and other causes of action in connection with the same\\nmatters, and seeking unspecified damages. Ohio Pub. Empl. Ret. Sys. v. Meta Platforms, Inc.\\nOn March 8, 2022, a putative class action was filed in the U.S. District Court for the Northern District of California against us and certain of our\\ndirectors and officers alleging violations of securities laws in connection with the disclosure of our earnings results for the fourth quarter of 2021 and seeking\\nunspecified damages (Plumbers & Steamfitters Local 60 Pension Trust v. Meta Platforms, Inc.). On July 18, 2023, the court dismissed the claims against Meta' metadata={'source': 'https://d18rn0p25nwr6d.cloudfront.net/CIK-0001326801/c7318154-f6ae-4866-89fa-f0c589f2ee3d.pdf', 'file_path': 'https://d18rn0p25nwr6d.cloudfront.net/CIK-0001326801/c7318154-f6ae-4866-89fa-f0c589f2ee3d.pdf', 'page': 55, 'total_pages': 147, 'format': 'PDF 1.4', 'title': '0001326801-24-000012', 'author': 'EDGAR® Online LLC, a subsidiary of OTC Markets Group', 'subject': 'Form 10-K filed on 2024-02-02 for the period ending 2023-12-31', 'keywords': '0001326801-24-000012; ; 10-K', 'creator': 'EDGAR Filing HTML Converter', 'producer': 'EDGRpdf Service w/ EO.Pdf 22.0.40.0', 'creationDate': \"D:20240202060356-05'00'\", 'modDate': \"D:20240202060413-05'00'\", 'trapped': '', 'encryption': 'Standard V2 R3 128-bit RC4', '_id': '82658cf2f63044589de1b93b4970f326', '_collection_name': 'MetaFin'}\n"
          ]
        }
      ]
    },
    {
      "cell_type": "code",
      "source": [
        "response = retrieval_augmented_qa_chain.invoke({\"question\" : \"What is the purpose of Meta?\"})"
      ],
      "metadata": {
        "id": "HOd2nJKZnsty"
      },
      "execution_count": 34,
      "outputs": []
    },
    {
      "cell_type": "code",
      "source": [
        "chainlin_answer = response[\"response\"].content\n",
        "print(chainlin_answer)"
      ],
      "metadata": {
        "colab": {
          "base_uri": "https://localhost:8080/"
        },
        "id": "TmLCKNGZLTh6",
        "outputId": "bf6f7317-6162-4fe5-e8dd-0fd0363e8af7"
      },
      "execution_count": 35,
      "outputs": [
        {
          "output_type": "stream",
          "name": "stdout",
          "text": [
            "The purpose of Meta is to enable a range of social experiences through virtual and augmented reality technologies, allowing people to engage in gaming, fitness, entertainment, and more. Additionally, Meta is committed to providing a skilled, inclusive, and diverse workforce to fuel innovation and growth, as well as offering benefits and resources to help employees thrive.\n"
          ]
        }
      ]
    },
    {
      "cell_type": "code",
      "source": [
        "response = retrieval_augmented_qa_chain.invoke({\"question\" : \"Who invented the Facebook thumbs up?\"})"
      ],
      "metadata": {
        "id": "lOa4F7mQHEVo"
      },
      "execution_count": 38,
      "outputs": []
    },
    {
      "cell_type": "code",
      "source": [
        "chainlin_answer = response[\"response\"].content\n",
        "print(chainlin_answer)"
      ],
      "metadata": {
        "colab": {
          "base_uri": "https://localhost:8080/"
        },
        "id": "UpFdrpsIHFmS",
        "outputId": "1e83daff-5a0e-46f7-e599-3e4a01de025f"
      },
      "execution_count": 39,
      "outputs": [
        {
          "output_type": "stream",
          "name": "stdout",
          "text": [
            "Insufficient data for further analysis, please try again\n"
          ]
        }
      ]
    }
  ]
}